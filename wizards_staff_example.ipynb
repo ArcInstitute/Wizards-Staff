{
 "cells": [
  {
   "cell_type": "markdown",
   "metadata": {},
   "source": [
    "### Example 1: Running the Full Analysis Pipeline\n",
    "You can run the entire analysis pipeline on a results folder by calling the `run_all` function:"
   ]
  },
  {
   "cell_type": "code",
   "execution_count": null,
   "metadata": {},
   "outputs": [],
   "source": [
    "import wizards_staff # import the module\n",
    "\n",
    "# Path to the example data folder (update this path to your own data directory)\n",
    "results_folder = './path/to/results' # Folder containing the results of the Lizard_Wizard pipeline\n",
    "metadata_path = './path/to/metadata.csv' # Path to the metadata file\n",
    "frate = 30  # Written in Frames Per Second\n",
    "\n",
    "# Run the full analysis pipeline:\n",
    "rise_time_df, fwhm_df, frpm_df, mask_metrics_df, silhouette_scores_df = wizards_staff.run_all(results_folder, metadata_path, frate=frate, size_threshold=20000, show_plots = True, save_files = False)"
   ]
  },
  {
   "cell_type": "markdown",
   "metadata": {},
   "source": []
  },
  {
   "cell_type": "code",
   "execution_count": null,
   "metadata": {},
   "outputs": [],
   "source": []
  }
 ],
 "metadata": {
  "language_info": {
   "name": "python"
  }
 },
 "nbformat": 4,
 "nbformat_minor": 2
}
