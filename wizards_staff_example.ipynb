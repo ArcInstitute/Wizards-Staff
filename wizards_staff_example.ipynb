{
 "cells": [
  {
   "cell_type": "markdown",
   "metadata": {},
   "source": [
    "### Example 1a: Running the Full Analysis Pipeline without PWC\n",
    "You can run the entire analysis pipeline on a results folder by calling the `run_all` function:"
   ]
  },
  {
   "cell_type": "code",
   "execution_count": null,
   "metadata": {},
   "outputs": [],
   "source": [
    "import wizards_staff # import the module\n",
    "\n",
    "# Path to the example data folder (update this path to your own data directory)\n",
    "results_folder = './path/to/results' # Folder containing the results of the Lizard_Wizard pipeline\n",
    "metadata_path = './path/to/metadata.csv' # Path to the metadata file\n",
    "frate = 30  # Written in Frames Per Second\n",
    "\n",
    "# Run the full analysis pipeline:\n",
    "rise_time_df, fwhm_df, frpm_df, mask_metrics_df, silhouette_scores_df = wizards_staff.run_all(results_folder,  # Folder containing the results of the Lizard_Wizard pipeline\n",
    "                                                                                            metadata_path, # Path to the metadata file\n",
    "                                                                                            frate=frate, # Frame rate of the video\n",
    "                                                                                            size_threshold=20000, # Parameter to filter out large noise \n",
    "                                                                                            show_plots = True, # Set to True to show the plots inline\n",
    "                                                                                            save_files = False # Set to True to save the output files\n",
    "                                                                                            )"
   ]
  },
  {
   "cell_type": "markdown",
   "metadata": {},
   "source": [
    "### Example 1b: Running the Full Analysis Pipeline with PWC\n",
    "You can run the entire analysis pipeline including pairwise correlation calculations on a results folder by calling the `run_all` function and specifying a group name which is specified by a column name in your 'metadata_path' CSV file:"
   ]
  },
  {
   "cell_type": "code",
   "execution_count": null,
   "metadata": {},
   "outputs": [],
   "source": [
    "import wizards_staff # import the module\n",
    "\n",
    "# Path to the example data folder (update this path to your own data directory)\n",
    "results_folder = './path/to/results' # Folder containing the results of the Lizard_Wizard pipeline\n",
    "metadata_path = './path/to/metadata.csv' # Path to the metadata file\n",
    "frate = 30  # Written in Frames Per Second\n",
    "\n",
    "# Run the full analysis pipeline:\n",
    "rise_time_df, fwhm_df, frpm_df, mask_metrics_df, silhouette_scores_df = wizards_staff.run_all(results_folder,  # Folder containing the results of the Lizard_Wizard pipeline\n",
    "                                                                                            metadata_path, # Path to the metadata file\n",
    "                                                                                            frate=frate, # Frame rate of the video\n",
    "                                                                                            group_name = 'group', # Column name in the metadata file containing the group information\n",
    "                                                                                            size_threshold=20000, # Parameter to filter out large noise \n",
    "                                                                                            show_plots = True, # Set to True to show the plots inline\n",
    "                                                                                            save_files = False # Set to True to save the output files\n",
    "                                                                                            )"
   ]
  },
  {
   "cell_type": "markdown",
   "metadata": {},
   "source": [
    "### Example 2: Running just the PWC Function\n",
    "You can run just the PWC pipeline on a results folder by calling the `run_all` function:"
   ]
  },
  {
   "cell_type": "code",
   "execution_count": null,
   "metadata": {},
   "outputs": [],
   "source": [
    "import wizards_staff # import the module\n",
    "\n",
    "# Path to the example data folder (update this path to your own data directory)\n",
    "results_folder = './path/to/results' # Folder containing the results of the Lizard_Wizard pipeline\n",
    "metadata_path = './path/to/metadata.csv' # Path to the metadata file\n",
    "frate = 30  # Written in Frames Per Second\n",
    "\n",
    "# Run the full analysis pipeline:\n"
   ]
  },
  {
   "cell_type": "markdown",
   "metadata": {},
   "source": [
    "### Example 3: Running just one Function instead of `run_all`\n"
   ]
  },
  {
   "cell_type": "code",
   "execution_count": null,
   "metadata": {},
   "outputs": [],
   "source": []
  }
 ],
 "metadata": {
  "language_info": {
   "name": "python"
  }
 },
 "nbformat": 4,
 "nbformat_minor": 2
}
