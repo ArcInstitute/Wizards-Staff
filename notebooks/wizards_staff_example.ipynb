{
 "cells": [
  {
   "cell_type": "markdown",
   "metadata": {},
   "source": [
    "# Set up"
   ]
  },
  {
   "cell_type": "code",
   "execution_count": null,
   "metadata": {},
   "outputs": [],
   "source": [
    "# import\n",
    "import os\n",
    "from wizards_staff import Orb"
   ]
  },
  {
   "cell_type": "code",
   "execution_count": 3,
   "metadata": {},
   "outputs": [],
   "source": [
    "# set variables\n",
    "results_folder = '/large_storage/cmtc/public/Sph10142024-p2-5-11202024/'\n",
    "metadata_path = os.path.join(results_folder, 'metadata.csv')\n",
    "output_dir = 'tmp/output'"
   ]
  },
  {
   "cell_type": "markdown",
   "metadata": {},
   "source": [
    "# Create Orb object"
   ]
  },
  {
   "cell_type": "code",
   "execution_count": null,
   "metadata": {},
   "outputs": [],
   "source": [
    "# initialize orb\n",
    "orb = Orb(results_folder, metadata_path)"
   ]
  },
  {
   "cell_type": "markdown",
   "metadata": {},
   "source": [
    "## View into the orb"
   ]
  },
  {
   "cell_type": "code",
   "execution_count": null,
   "metadata": {},
   "outputs": [],
   "source": [
    "# all input files merged with metadata\n",
    "orb.input"
   ]
  },
  {
   "cell_type": "code",
   "execution_count": null,
   "metadata": {},
   "outputs": [],
   "source": [
    "# just input files\n",
    "orb"
   ]
  },
  {
   "cell_type": "code",
   "execution_count": 6,
   "metadata": {},
   "outputs": [
    {
     "data": {
      "text/html": [
       "<div>\n",
       "<style scoped>\n",
       "    .dataframe tbody tr th:only-of-type {\n",
       "        vertical-align: middle;\n",
       "    }\n",
       "\n",
       "    .dataframe tbody tr th {\n",
       "        vertical-align: top;\n",
       "    }\n",
       "\n",
       "    .dataframe thead th {\n",
       "        text-align: right;\n",
       "    }\n",
       "</style>\n",
       "<table border=\"1\" class=\"dataframe\">\n",
       "  <thead>\n",
       "    <tr style=\"text-align: right;\">\n",
       "      <th></th>\n",
       "      <th>Sample</th>\n",
       "      <th>Well</th>\n",
       "      <th>Frate</th>\n",
       "    </tr>\n",
       "  </thead>\n",
       "  <tbody>\n",
       "    <tr>\n",
       "      <th>0</th>\n",
       "      <td>10xGCaMP-6wk-Baseline-Stream_Stream_F08_s1_FIT...</td>\n",
       "      <td>F08</td>\n",
       "      <td>8.0</td>\n",
       "    </tr>\n",
       "    <tr>\n",
       "      <th>1</th>\n",
       "      <td>10xGCaMP-6wk-Baseline-Stream_Stream_D10_s1_FIT...</td>\n",
       "      <td>D10</td>\n",
       "      <td>8.0</td>\n",
       "    </tr>\n",
       "  </tbody>\n",
       "</table>\n",
       "</div>"
      ],
      "text/plain": [
       "                                              Sample Well  Frate\n",
       "0  10xGCaMP-6wk-Baseline-Stream_Stream_F08_s1_FIT...  F08    8.0\n",
       "1  10xGCaMP-6wk-Baseline-Stream_Stream_D10_s1_FIT...  D10    8.0"
      ]
     },
     "execution_count": 6,
     "metadata": {},
     "output_type": "execute_result"
    }
   ],
   "source": [
    "# just metadata\n",
    "orb.metadata"
   ]
  },
  {
   "cell_type": "code",
   "execution_count": 7,
   "metadata": {},
   "outputs": [
    {
     "data": {
      "text/plain": [
       "{'10xGCaMP-6wk-Baseline-Stream_Stream_D10_s1_FITC_full',\n",
       " '10xGCaMP-6wk-Baseline-Stream_Stream_F08_s1_FITC_full'}"
      ]
     },
     "execution_count": 7,
     "metadata": {},
     "output_type": "execute_result"
    }
   ],
   "source": [
    "# list all samples\n",
    "orb.samples"
   ]
  },
  {
   "cell_type": "code",
   "execution_count": null,
   "metadata": {},
   "outputs": [],
   "source": [
    "# iterate over samples\n",
    "for shard in orb.shatter():\n",
    "    print(shard.sample_name)\n",
    "    print(shard)\n",
    "    print('---')"
   ]
  },
  {
   "cell_type": "code",
   "execution_count": 7,
   "metadata": {},
   "outputs": [
    {
     "name": "stdout",
     "output_type": "stream",
     "text": [
      "(0, 6000)\n",
      "(23, 6000)\n"
     ]
    }
   ],
   "source": [
    "for shard in orb.shatter():\n",
    "    print(shard.get_input(\"cnm_S\").shape)"
   ]
  },
  {
   "cell_type": "markdown",
   "metadata": {},
   "source": [
    "# Analyze data"
   ]
  },
  {
   "cell_type": "code",
   "execution_count": null,
   "metadata": {},
   "outputs": [
    {
     "data": {
      "application/vnd.jupyter.widget-view+json": {
       "model_id": "7d5512cccf83481382a5a70c4f5985bd",
       "version_major": 2,
       "version_minor": 0
      },
      "text/plain": [
       "Shattering the orb and processing each shard...:   0%|          | 0/12 [00:00<?, ?it/s]"
      ]
     },
     "metadata": {},
     "output_type": "display_data"
    }
   ],
   "source": [
    "# run all (in parallel)\n",
    "## provide a group name (matching a metadata column) to include the pairwise correlation analysis\n",
    "orb.run_all(group_name=\"Well\", show_plots=False, save_files=False, output_dir=output_dir)"
   ]
  },
  {
   "cell_type": "code",
   "execution_count": null,
   "metadata": {},
   "outputs": [],
   "source": [
    "# view results\n",
    "for result_name,result_data in orb.results:\n",
    "    print(result_name)\n",
    "    print(result_data)\n",
    "    print('---')"
   ]
  },
  {
   "cell_type": "code",
   "execution_count": 16,
   "metadata": {},
   "outputs": [
    {
     "name": "stderr",
     "output_type": "stream",
     "text": [
      "/home/nickyoungblut/miniforge3/envs/wizards-staff/lib/python3.11/site-packages/numpy/lib/function_base.py:2897: RuntimeWarning: invalid value encountered in divide\n",
      "  c /= stddev[:, None]\n",
      "/home/nickyoungblut/dev/python/Wizards-Staff/wizards_staff/pwc.py:217: RuntimeWarning: Mean of empty slice.\n",
      "  list_vals_intra.append(r_intra.mean())\n",
      "/home/nickyoungblut/miniforge3/envs/wizards-staff/lib/python3.11/site-packages/numpy/core/_methods.py:129: RuntimeWarning: invalid value encountered in scalar divide\n",
      "  ret = ret.dtype.type(ret / rcount)\n",
      "/home/nickyoungblut/dev/python/Wizards-Staff/wizards_staff/pwc.py:215: RuntimeWarning: Mean of empty slice.\n",
      "  list_vals.append(r.mean())\n",
      "/home/nickyoungblut/dev/python/Wizards-Staff/wizards_staff/pwc.py:216: RuntimeWarning: Mean of empty slice.\n",
      "  list_vals_inter.append(r_inter.mean())\n",
      "/home/nickyoungblut/dev/python/Wizards-Staff/wizards_staff/pwc.py:294: RuntimeWarning: Mean of empty slice\n",
      "  mean_of_means_dict[key] = np.nanmean(mean_pwc_dict[key])\n",
      "/home/nickyoungblut/miniforge3/envs/wizards-staff/lib/python3.11/site-packages/numpy/lib/nanfunctions.py:1879: RuntimeWarning: Degrees of freedom <= 0 for slice.\n",
      "  var = nanvar(a, axis=axis, dtype=dtype, out=out, ddof=ddof,\n",
      "Pairwise correlation analysis completed.\n"
     ]
    }
   ],
   "source": [
    "# just run pwc analysis\n",
    "orb.run_pwc(group_name=\"Well\", output_dir=output_dir, show_plots=False, save_files=False)"
   ]
  },
  {
   "cell_type": "markdown",
   "metadata": {},
   "source": [
    "## Show the results"
   ]
  },
  {
   "cell_type": "code",
   "execution_count": 17,
   "metadata": {},
   "outputs": [
    {
     "name": "stdout",
     "output_type": "stream",
     "text": [
      "rise_time_data\n",
      "                                              Sample  Neuron Rise Times  \\\n",
      "0  10xGCaMP-6wk-Baseline-Stream_Stream_D10_s1_FIT...       0       5997   \n",
      "1  10xGCaMP-6wk-Baseline-Stream_Stream_D10_s1_FIT...       1       5997   \n",
      "2  10xGCaMP-6wk-Baseline-Stream_Stream_D10_s1_FIT...       2       5997   \n",
      "3  10xGCaMP-6wk-Baseline-Stream_Stream_D10_s1_FIT...       3       5997   \n",
      "\n",
      "  Rise Positions Well  Frate  \n",
      "0           5998  D10    8.0  \n",
      "1           5998  D10    8.0  \n",
      "2           5998  D10    8.0  \n",
      "3           5998  D10    8.0  \n",
      "---\n",
      "fwhm_data\n",
      "                                              Sample  Neuron  \\\n",
      "0  10xGCaMP-6wk-Baseline-Stream_Stream_D10_s1_FIT...       0   \n",
      "1  10xGCaMP-6wk-Baseline-Stream_Stream_D10_s1_FIT...       1   \n",
      "2  10xGCaMP-6wk-Baseline-Stream_Stream_D10_s1_FIT...       2   \n",
      "3  10xGCaMP-6wk-Baseline-Stream_Stream_D10_s1_FIT...       3   \n",
      "\n",
      "  FWHM Backward Positions FWHM Forward Positions FWHM Values Spike Counts  \\\n",
      "0                       0                   5997        5998            6   \n",
      "1                       0                   5997        5998            6   \n",
      "2                       0                   5997        5998            6   \n",
      "3                       0                   5997        5998            6   \n",
      "\n",
      "  Well  Frate  \n",
      "0  D10    8.0  \n",
      "1  D10    8.0  \n",
      "2  D10    8.0  \n",
      "3  D10    8.0  \n",
      "---\n",
      "frpm_data\n",
      "                                              Sample  Neuron Index  \\\n",
      "0  10xGCaMP-6wk-Baseline-Stream_Stream_D10_s1_FIT...             0   \n",
      "1  10xGCaMP-6wk-Baseline-Stream_Stream_D10_s1_FIT...            14   \n",
      "2  10xGCaMP-6wk-Baseline-Stream_Stream_D10_s1_FIT...            16   \n",
      "3  10xGCaMP-6wk-Baseline-Stream_Stream_D10_s1_FIT...            22   \n",
      "\n",
      "   Firing Rate Per Min. Well  Frate  \n",
      "0                   1.5  D10    8.0  \n",
      "1                   1.5  D10    8.0  \n",
      "2                   1.5  D10    8.0  \n",
      "3                   1.5  D10    8.0  \n",
      "---\n",
      "mask_metrics_data\n",
      "                                              Sample  Roundness   Diameter  \\\n",
      "0  10xGCaMP-6wk-Baseline-Stream_Stream_F08_s1_FIT...   1.714743   3.191538   \n",
      "1  10xGCaMP-6wk-Baseline-Stream_Stream_D10_s1_FIT...   0.849188  99.917322   \n",
      "\n",
      "     Area Well  Frate  \n",
      "0     8.0  F08    8.0  \n",
      "1  7841.0  D10    8.0  \n",
      "---\n",
      "silhouette_scores_data\n",
      "                                              Sample Silhouette Score  \\\n",
      "0  10xGCaMP-6wk-Baseline-Stream_Stream_F08_s1_FIT...             None   \n",
      "1  10xGCaMP-6wk-Baseline-Stream_Stream_D10_s1_FIT...             None   \n",
      "\n",
      "  Number of Clusters Well  Frate  \n",
      "0               None  F08    8.0  \n",
      "1               None  D10    8.0  \n",
      "---\n",
      "df_mn_pwc\n",
      "   D10  F08\n",
      "0  0.0  NaN\n",
      "---\n",
      "df_mn_pwc_intra\n",
      "   D10  F08\n",
      "0  NaN  NaN\n",
      "---\n",
      "df_mn_pwc_inter\n",
      "   D10  F08\n",
      "0  0.0  NaN\n",
      "---\n"
     ]
    }
   ],
   "source": [
    "# view results\n",
    "for result_name,result_data in orb.results:\n",
    "    print(result_name)\n",
    "    print(result_data)\n",
    "    print('---')"
   ]
  },
  {
   "cell_type": "markdown",
   "metadata": {},
   "source": [
    "## Save the results"
   ]
  },
  {
   "cell_type": "code",
   "execution_count": 14,
   "metadata": {},
   "outputs": [
    {
     "name": "stderr",
     "output_type": "stream",
     "text": [
      "Saving data items to: tmp/output\n",
      "  'rise_time_data' saved to: tmp/output/rise-time-data.csv\n",
      "  'fwhm_data' saved to: tmp/output/fwhm-data.csv\n",
      "  'frpm_data' saved to: tmp/output/frpm-data.csv\n",
      "  'mask_metrics_data' saved to: tmp/output/mask-metrics-data.csv\n",
      "  'silhouette_scores_data' saved to: tmp/output/silhouette-scores-data.csv\n",
      "  'df_mn_pwc' saved to: tmp/output/df-mn-pwc.csv\n",
      "  'df_mn_pwc_intra' saved to: tmp/output/df-mn-pwc-intra.csv\n",
      "  'df_mn_pwc_inter' saved to: tmp/output/df-mn-pwc-inter.csv\n"
     ]
    }
   ],
   "source": [
    "# save results\n",
    "orb.save_results(output_dir)"
   ]
  },
  {
   "cell_type": "code",
   "execution_count": 15,
   "metadata": {},
   "outputs": [
    {
     "name": "stderr",
     "output_type": "stream",
     "text": [
      "Saving data items to: tmp/output\n",
      "  'rise_time_data' saved to: tmp/output/rise-time-data.csv\n",
      "  'df_mn_pwc' saved to: tmp/output/df-mn-pwc.csv\n"
     ]
    }
   ],
   "source": [
    "# save specific results\n",
    "orb.save_results(output_dir, result_names=[\"rise_time_data\", \"df_mn_pwc\"])"
   ]
  },
  {
   "cell_type": "markdown",
   "metadata": {},
   "source": [
    "# sessionInfo"
   ]
  },
  {
   "cell_type": "code",
   "execution_count": 16,
   "metadata": {},
   "outputs": [
    {
     "name": "stdout",
     "output_type": "stream",
     "text": [
      "absl-py==2.1.0\n",
      "asciitree==0.3.3\n",
      "asttokens==2.4.1\n",
      "astunparse==1.6.3\n",
      "attrs==24.2.0\n",
      "bleach==6.1.0\n",
      "bokeh==3.5.2\n",
      "caiman @ git+https://github.com/flatironinstitute/CaImAn.git@bb55800806f0898592d79dcc705a0b53ccd01ec3\n",
      "certifi==2024.8.30\n",
      "charset-normalizer==3.3.2\n",
      "colorcet==3.1.0\n",
      "comm==0.2.2\n",
      "contourpy==1.3.0\n",
      "cycler==0.12.1\n",
      "debugpy==1.8.5\n",
      "decorator==5.1.1\n",
      "entrypoints==0.4\n",
      "executing==2.1.0\n",
      "fasteners==0.19\n",
      "flatbuffers==24.3.25\n",
      "fonttools==4.53.1\n",
      "gast==0.6.0\n",
      "google-pasta==0.2.0\n",
      "greenlet==3.1.1\n",
      "grpcio==1.66.1\n",
      "h5py==3.11.0\n",
      "hdmf==3.14.4\n",
      "holoviews==1.19.1\n",
      "idna==3.10\n",
      "imageio==2.35.1\n",
      "ipykernel==6.29.5\n",
      "ipyparallel==8.8.0\n",
      "ipython==8.27.0\n",
      "ipywidgets==8.1.5\n",
      "jedi==0.19.1\n",
      "Jinja2==3.1.4\n",
      "joblib==1.4.2\n",
      "jsonschema==4.23.0\n",
      "jsonschema-specifications==2023.12.1\n",
      "jupyter_client==8.6.3\n",
      "jupyter_core==5.7.2\n",
      "jupyterlab_widgets==3.0.13\n",
      "keras==3.5.0\n",
      "kiwisolver==1.4.7\n",
      "lazy_loader==0.4\n",
      "libclang==18.1.1\n",
      "linkify-it-py==2.0.3\n",
      "Markdown==3.7\n",
      "markdown-it-py==3.0.0\n",
      "MarkupSafe==2.1.5\n",
      "matplotlib==3.9.2\n",
      "matplotlib-inline==0.1.7\n",
      "mdit-py-plugins==0.4.2\n",
      "mdurl==0.1.2\n",
      "ml-dtypes==0.4.1\n",
      "namex==0.0.8\n",
      "nest-asyncio==1.6.0\n",
      "networkx==3.3\n",
      "numcodecs==0.13.0\n",
      "numpy==1.26.4\n",
      "opencv-python==4.10.0.84\n",
      "opt-einsum==3.3.0\n",
      "optree==0.12.1\n",
      "packaging==24.1\n",
      "pandas==2.2.2\n",
      "panel==1.5.0\n",
      "param==2.1.1\n",
      "parso==0.8.4\n",
      "PeakUtils==1.3.5\n",
      "pexpect==4.9.0\n",
      "pillow==10.4.0\n",
      "PIMS==0.7\n",
      "platformdirs==4.3.6\n",
      "prompt_toolkit==3.0.47\n",
      "protobuf==4.25.4\n",
      "psutil==6.0.0\n",
      "psycopg2-binary==2.9.9\n",
      "ptyprocess==0.7.0\n",
      "pure_eval==0.2.3\n",
      "Pygments==2.18.0\n",
      "pynwb==2.8.2\n",
      "pyparsing==3.1.4\n",
      "PyPika==0.48.9\n",
      "python-dateutil==2.9.0.post0\n",
      "python-dotenv==1.0.1\n",
      "pytz==2024.2\n",
      "pyviz_comms==3.0.3\n",
      "PyYAML==6.0.2\n",
      "pyzmq==26.2.0\n",
      "referencing==0.35.1\n",
      "requests==2.32.3\n",
      "rich==13.8.1\n",
      "rpds-py==0.20.0\n",
      "ruamel.yaml==0.18.6\n",
      "ruamel.yaml.clib==0.2.8\n",
      "scikit-image==0.24.0\n",
      "scikit-learn==1.5.2\n",
      "scipy==1.14.1\n",
      "six==1.16.0\n",
      "slicerator==1.1.0\n",
      "SQLAlchemy==2.0.35\n",
      "stack-data==0.6.3\n",
      "tensorboard==2.17.1\n",
      "tensorboard-data-server==0.7.2\n",
      "tensorflow==2.17.0\n",
      "tensorflow-io-gcs-filesystem==0.37.1\n",
      "termcolor==2.4.0\n",
      "threadpoolctl==3.5.0\n",
      "tifffile==2024.8.30\n",
      "tornado==6.4.1\n",
      "tqdm==4.66.5\n",
      "traitlets==5.14.3\n",
      "typing_extensions==4.12.2\n",
      "tzdata==2024.1\n",
      "uc-micro-py==1.0.3\n",
      "urllib3==2.2.3\n",
      "wcwidth==0.2.13\n",
      "webencodings==0.5.1\n",
      "Werkzeug==3.0.4\n",
      "widgetsnbextension==4.0.13\n",
      "-e git+ssh://git@github.com/nick-youngblut/Wizards-Staff.git@49cb88272525993de380bf149e3810a0ca6d22eb#egg=wizards_staff\n",
      "wrapt==1.16.0\n",
      "xyzservices==2024.9.0\n",
      "zarr==2.18.3\n"
     ]
    }
   ],
   "source": [
    "!pip freeze"
   ]
  }
 ],
 "metadata": {
  "kernelspec": {
   "display_name": "wizards_staff",
   "language": "python",
   "name": "python3"
  },
  "language_info": {
   "codemirror_mode": {
    "name": "ipython",
    "version": 3
   },
   "file_extension": ".py",
   "mimetype": "text/x-python",
   "name": "python",
   "nbconvert_exporter": "python",
   "pygments_lexer": "ipython3",
   "version": "3.11.9"
  }
 },
 "nbformat": 4,
 "nbformat_minor": 2
}
