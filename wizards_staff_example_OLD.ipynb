{
 "cells": [
  {
   "cell_type": "markdown",
   "metadata": {},
   "source": [
    "### Example 1a: Running the Full Analysis Pipeline without PWC\n",
    "You can run the entire analysis pipeline on a results folder by calling the `run_all` function:"
   ]
  },
  {
   "cell_type": "code",
   "execution_count": null,
   "metadata": {},
   "outputs": [],
   "source": [
    "import wizards_staff # import the module\n",
    "\n",
    "# Path to the example data folder (update this path to your own data directory)\n",
    "results_folder = './path/to/results' # Folder containing the results of the Lizard_Wizard pipeline\n",
    "metadata_path = './path/to/metadata.csv' # Path to the metadata file\n",
    "frate = 30  # Written in Frames Per Second\n",
    "\n",
    "# Run the full analysis pipeline:\n",
    "rise_time_df, fwhm_df, frpm_df, mask_metrics_df, silhouette_scores_df = wizards_staff.run_all(\n",
    "    results_folder,  # Folder containing the results of the Lizard_Wizard pipeline\n",
    "    metadata_path, # Path to the metadata file\n",
    "    frate=frate, # Frame rate of the video\n",
    "    size_threshold=20000, # Parameter to filter out large noise \n",
    "    show_plots = True, # Set to True to show the plots inline\n",
    "    save_files = False, # Set to True to save the output files\n",
    "    output_dir='./lizard_wizard_outputs' # Directory to save the output files\n",
    ")"
   ]
  },
  {
   "cell_type": "markdown",
   "metadata": {},
   "source": [
    "### Example 1b: Running the Full Analysis Pipeline with PWC\n",
    "You can run the entire analysis pipeline including pairwise correlation calculations on a results folder by calling the `run_all` function and specifying a group name which is specified by a column name in your 'metadata_path' CSV file:"
   ]
  },
  {
   "cell_type": "code",
   "execution_count": null,
   "metadata": {},
   "outputs": [],
   "source": [
    "import wizards_staff # import the module\n",
    "\n",
    "results_folder = './path/to/results' # Folder containing the results of the Lizard_Wizard pipeline, update this path to your own data directory\n",
    "metadata_path = './path/to/metadata.csv' # Path to the metadata file, update this path to your own metadata directory\n",
    "frate = 30  # Written in Frames Per Second\n",
    "\n",
    "# Run the full analysis pipeline:\n",
    "rise_time_df, fwhm_df, frpm_df, mask_metrics_df, silhouette_scores_df = wizards_staff.run_all(results_folder,  # Folder containing the results of the Lizard_Wizard pipeline\n",
    "                                                                                            metadata_path, # Path to the metadata file\n",
    "                                                                                            frate=frate, # Frame rate of the video\n",
    "                                                                                            group_name = 'group', # Column name in the metadata file containing the group information\n",
    "                                                                                            size_threshold=20000, # Parameter to filter out large noise \n",
    "                                                                                            show_plots = True, # Set to True to show the plots inline\n",
    "                                                                                            save_files = False, # Set to True to save the output files\n",
    "                                                                                            output_dir='./lizard_wizard_outputs' # Directory to save the output files\n",
    "                                                                                            )"
   ]
  },
  {
   "cell_type": "markdown",
   "metadata": {},
   "source": [
    "### Example 2: Running just the PWC Function\n",
    "You can run just the PWC pipeline on a results folder by calling the `run_pwc` function:"
   ]
  },
  {
   "cell_type": "code",
   "execution_count": null,
   "metadata": {},
   "outputs": [],
   "source": [
    "import wizards_staff # import the module\n",
    "\n",
    "group_name = 'Compound' # Column name in the metadata file containing the group information\n",
    "results_folder = './path/to/results' # Folder containing the results of the Lizard_Wizard pipeline, update this path to your own data directory\n",
    "metadata_path = './path/to/metadata.csv' # Path to the metadata file, update this path to your own metadata directory\n",
    "poly = False # Set to True to fit a polynomial to the data\n",
    "\n",
    "# Parameters for the function\n",
    "df_mn_pwc, df_mn_pwc_inter, df_mn_pwc_intra = wizards_staff.run_pwc(group_name, # Column name in the metadata file containing the group information\n",
    "                                                    metadata_path, \n",
    "                                                    results_folder, \n",
    "                                                    poly = poly, \n",
    "                                                    show_plots = False, # Set to True to show the plots inline\n",
    "                                                    save_files = False, # Set to True to save the output files\n",
    "                                                    output_dir = './lizard_wizard_outputs' # Default directory to save the output files\n",
    "                                                    )\n",
    "\n",
    "# df_mn_pwc\n",
    "df_mn_pwc_inter\n",
    "# df_mn_pwc_intra"
   ]
  },
  {
   "cell_type": "markdown",
   "metadata": {},
   "source": [
    "### Example 3: Calculate just Firing Rate Per Minute\n",
    "\n",
    "Below is a basic framework for how one would, instead of running through and calculating all metrics/plotting functions, just one module by:\n",
    "- Gathering the necessary files for the analysis via `categorize_files`, which organizes the results from the Lizard-Wizard pipeline into a structured format for analysis.\n",
    "- Looping through each file in the categorized results and loading the required data using `load_required_files`.\n",
    "- Applying spatial filtering to remove noise in the calcium imaging data using `spatial_filtering`. This step filters the regions of interest (ROIs) based on the image data and thresholds defined, ensuring that only relevant signal areas are processed.\n",
    "- Loading the ΔF/F₀ data, which represents fluorescence changes relative to baseline levels, and converting it to calcium signals and spike events using the `convert_f_to_cs` function.\n",
    "- Z-scoring the spike events with `zscore` to normalize them, making the data easier to compare and threshold for event detection.\n",
    "- Filtering the calcium signals and spike events based on the indexing results of `spatial_filtering`.\n",
    "- Calculating the intended metric which in this case is Firing Rate Per Minute (FRPM) for each neuron using the `calc_frpm` function, which analyzes the z-scored spike events to compute firing rates based on the specified z-score threshold.\n",
    "- Storing the FRPM data in a list, which is later converted to a pandas DataFrame for further analysis or visualization.\n",
    "\n",
    "Finally, the metadata is appended to the resulting DataFrame using `append_metadata_to_dfs`, ensuring that each result is annotated with its corresponding metadata, such as image acquisition details and well positions from the plate."
   ]
  },
  {
   "cell_type": "code",
   "execution_count": null,
   "metadata": {},
   "outputs": [],
   "source": [
    "import wizards_staff # import the module\n",
    "\n",
    "# Path to the example data folder (update this path to your own data directory)\n",
    "results_folder = './path/to/results' # Folder containing the results of the Lizard_Wizard pipeline  \n",
    "metadata_path = './path/to/metadata.csv' # Path to the metadata file\n",
    "frate = 30  # Written in Frames Per Second\n",
    "p_th = 0.5  # Threshold for spatial filtering\n",
    "size_threshold = 20000  # Parameter to filter out large noise\n",
    "zscore_threshold = 2  # Threshold for z-scoring the spike events"
   ]
  },
  {
   "cell_type": "code",
   "execution_count": null,
   "metadata": {},
   "outputs": [],
   "source": [
    "# Gather the necessary files for the analysis\n",
    "categorized_files = categorize_files(results_folder)\n",
    "\n",
    "# Initialize lists to store data for given metric type\n",
    "frpm_data = []\n",
    "\n",
    "# Loop through file list and run analysis on each file\n",
    "for raw_filename, _ in tqdm(categorized_files.items(), desc=\"Processing files\"):\n",
    "    # Load the necessary Lizard_Wizard Output files for the current image file\n",
    "    file_data = load_required_files(categorized_files, raw_filename)\n",
    "    \n",
    "    # Apply spatial filtering to the data to remove noise\n",
    "    filtered_idx = spatial_filtering(cn_filter= file_data['cn_filter_img'], p_th = p_th, size_threshold = size_threshold, \n",
    "    cnm_A=file_data['cnm_A'], cnm_idx=file_data['cnm_idx'], im_min = file_data['im_min'], plot=False, silence=True)\n",
    "    \n",
    "    # Load the ΔF/F₀ data for the given image file and add a small constant to avoid division by zero``\n",
    "    dff = file_data['dff_dat']\n",
    "    dff += 0.0001  # Small constant added to avoid division by zero\n",
    "\n",
    "    # Convert ΔF/F₀ to calcium signals and spike events\n",
    "    calcium_signals, spike_events = convert_f_to_cs(dff, p = 2)\n",
    "\n",
    "    # Z-score the spike events\n",
    "    zscored_spike_events = zscore(np.copy(spike_events), axis = 1)\n",
    "\n",
    "    # Filter the calcium signals and z-scored spike events based on the spatial filtering\n",
    "    zscored_spike_events_filtered = zscored_spike_events[filtered_idx, :]\n",
    "    calcium_signals_filtered = calcium_signals[filtered_idx, :]\n",
    "\n",
    "    # Calculate FRPM:\n",
    "    _, frpm  = calc_frpm(zscored_spike_events, filtered_idx, frate, zscore_threshold = zscore_threshold)\n",
    "\n",
    "    # Append the FRPM data to the list\n",
    "    for neuron_idx, frpm_value in frpm.items():\n",
    "        frpm_data.append({'Filename': raw_filename,'Neuron Index': neuron_idx,'Firing Rate Per Min.': frpm_value})\n",
    "\n",
    "# Convert the frpm list to DataFrames\n",
    "frpm_df = pd.DataFrame(frpm_data)\n",
    "\n",
    "# Append metadata to dataframes\n",
    "updated_frpm_df = append_metadata_to_dfs(metadata_path, frpm = frpm_df)\n",
    "\n",
    "# Show the first few rows of the updated DataFrame\n",
    "updated_frpm_df.head()"
   ]
  }
 ],
 "metadata": {
  "kernelspec": {
   "display_name": "wizards_staff_test_env",
   "language": "python",
   "name": "python3"
  },
  "language_info": {
   "name": "python",
   "version": "3.11.10"
  }
 },
 "nbformat": 4,
 "nbformat_minor": 2
}
